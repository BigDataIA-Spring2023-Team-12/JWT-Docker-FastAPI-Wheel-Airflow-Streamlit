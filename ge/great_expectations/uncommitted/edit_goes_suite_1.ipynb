{
 "cells": [
  {
   "cell_type": "markdown",
   "id": "2410dba9",
   "metadata": {},
   "source": [
    "# Edit Your Expectation Suite\n",
    "Use this notebook to recreate and modify your expectation suite:\n",
    "\n",
    "**Expectation Suite Name**: `goes_suite_1`\n"
   ]
  },
  {
   "cell_type": "code",
   "execution_count": 1,
   "id": "4f692cab",
   "metadata": {},
   "outputs": [
    {
     "name": "stdout",
     "output_type": "stream",
     "text": [
      "2023-02-22T21:26:07-0500 - INFO - Great Expectations logging enabled at 20 level by JupyterUX module.\n",
      "2023-02-22T21:26:07-0500 - INFO - FileDataContext loading zep config\n",
      "2023-02-22T21:26:07-0500 - INFO - GxConfig.parse_yaml() failed with errors - [{'loc': ('xdatasources',), 'msg': 'field required', 'type': 'value_error.missing'}]\n",
      "2023-02-22T21:26:07-0500 - INFO - GxConfig.parse_yaml() returning empty `xdatasources`\n",
      "2023-02-22T21:26:07-0500 - INFO - Loading 'datasources' ->\n",
      "{}\n",
      "2023-02-22T21:26:07-0500 - INFO - Loaded 'datasources' ->\n",
      "{}\n",
      "Loaded ExpectationSuite \"goes_suite_1\" containing 10 expectations.\n"
     ]
    }
   ],
   "source": [
    "import datetime\n",
    "\n",
    "import pandas as pd\n",
    "\n",
    "import great_expectations as gx\n",
    "import great_expectations.jupyter_ux\n",
    "from great_expectations.core.expectation_configuration import ExpectationConfiguration\n",
    "from great_expectations.data_context.types.resource_identifiers import ExpectationSuiteIdentifier\n",
    "from great_expectations.exceptions import DataContextError\n",
    "\n",
    "context = gx.get_context()\n",
    "\n",
    "\n",
    "# Feel free to change the name of your suite here. Renaming this will not remove the other one.\n",
    "expectation_suite_name = \"goes_suite_1\"\n",
    "try:\n",
    "    suite = context.get_expectation_suite(expectation_suite_name=expectation_suite_name)\n",
    "    print(f'Loaded ExpectationSuite \"{suite.expectation_suite_name}\" containing {len(suite.expectations)} expectations.')\n",
    "except DataContextError:\n",
    "    suite = context.add_expectation_suite(expectation_suite_name=expectation_suite_name)\n",
    "    print(f'Created ExpectationSuite \"{suite.expectation_suite_name}\".')"
   ]
  },
  {
   "cell_type": "markdown",
   "id": "c6a48ed9",
   "metadata": {},
   "source": [
    "## Create & Edit Expectations\n",
    "\n",
    "\n",
    "You are adding Expectation configurations to the suite. Since you selected manual mode, there is no sample batch of data and no validation happens during this process. See our documentation for more info and examples: **[How to create a new Expectation Suite without a sample batch](https://docs.greatexpectations.io/docs/guides/expectations/how_to_create_and_edit_expectations_based_on_domain_knowledge_without_inspecting_data_directly)**.\n",
    "\n",
    "Note that if you do use interactive mode you may specify a sample batch of data to use when creating your Expectation Suite. You can then use a `validator` to get immediate feedback on your Expectations against your specified sample batch.\n",
    "\n",
    "\n",
    "You can see all the available expectations in the **[expectation gallery](https://greatexpectations.io/expectations)**."
   ]
  },
  {
   "cell_type": "markdown",
   "id": "ea42cd31",
   "metadata": {},
   "source": [
    "### Table Expectation(s)"
   ]
  },
  {
   "cell_type": "code",
   "execution_count": 2,
   "id": "37b23e8a",
   "metadata": {},
   "outputs": [
    {
     "data": {
      "text/plain": [
       "{\"kwargs\": {\"max_value\": 100000, \"min_value\": 0}, \"meta\": {\"profiler_details\": {\"metric_configuration\": {\"domain_kwargs\": {}, \"metric_name\": \"table.row_count\", \"metric_value_kwargs\": null}, \"num_batches\": 1}}, \"expectation_type\": \"expect_table_row_count_to_be_between\"}"
      ]
     },
     "execution_count": 2,
     "metadata": {},
     "output_type": "execute_result"
    }
   ],
   "source": [
    "\n",
    "expectation_configuration = ExpectationConfiguration(**{\n",
    "  \"meta\": {\n",
    "    \"profiler_details\": {\n",
    "      \"metric_configuration\": {\n",
    "        \"domain_kwargs\": {},\n",
    "        \"metric_name\": \"table.row_count\",\n",
    "        \"metric_value_kwargs\": None\n",
    "      },\n",
    "      \"num_batches\": 1\n",
    "    }\n",
    "  },\n",
    "  \"kwargs\": {\n",
    "    \"max_value\": 100000,\n",
    "    \"min_value\": 0\n",
    "  },\n",
    "  \"expectation_type\": \"expect_table_row_count_to_be_between\"\n",
    "})\n",
    "suite.add_expectation(expectation_configuration=expectation_configuration)"
   ]
  },
  {
   "cell_type": "code",
   "execution_count": 3,
   "id": "8d89cede",
   "metadata": {},
   "outputs": [
    {
     "data": {
      "text/plain": [
       "{\"kwargs\": {\"column_set\": [\"year\", \"day\", \"station\", \"hour\"]}, \"meta\": {\"profiler_details\": {\"success_ratio\": 1.0}}, \"expectation_type\": \"expect_table_columns_to_match_set\"}"
      ]
     },
     "execution_count": 3,
     "metadata": {},
     "output_type": "execute_result"
    }
   ],
   "source": [
    "\n",
    "expectation_configuration = ExpectationConfiguration(**{\n",
    "  \"meta\": {\n",
    "    \"profiler_details\": {\n",
    "      \"success_ratio\": 1.0\n",
    "    }\n",
    "  },\n",
    "  \"kwargs\": {\n",
    "    \"column_set\": [\n",
    "      \"year\",\n",
    "      \"day\",\n",
    "      \"station\",\n",
    "      \"hour\"\n",
    "    ]\n",
    "  },\n",
    "  \"expectation_type\": \"expect_table_columns_to_match_set\"\n",
    "})\n",
    "suite.add_expectation(expectation_configuration=expectation_configuration)"
   ]
  },
  {
   "cell_type": "markdown",
   "id": "61cf6ab5",
   "metadata": {},
   "source": [
    "### Column Expectation(s)"
   ]
  },
  {
   "cell_type": "markdown",
   "id": "50bc3ec0",
   "metadata": {},
   "source": [
    "#### `year`"
   ]
  },
  {
   "cell_type": "code",
   "execution_count": 4,
   "id": "2d8d68f7",
   "metadata": {},
   "outputs": [
    {
     "data": {
      "text/plain": [
       "{\"kwargs\": {\"column\": \"year\"}, \"meta\": {\"profiler_details\": {\"metric_configuration\": {\"domain_kwargs\": {\"column\": \"year\"}, \"metric_name\": \"column_values.nonnull.unexpected_count\", \"metric_value_kwargs\": null}, \"num_batches\": 1}}, \"expectation_type\": \"expect_column_values_to_not_be_null\"}"
      ]
     },
     "execution_count": 4,
     "metadata": {},
     "output_type": "execute_result"
    }
   ],
   "source": [
    "\n",
    "expectation_configuration = ExpectationConfiguration(**{\n",
    "  \"meta\": {\n",
    "    \"profiler_details\": {\n",
    "      \"metric_configuration\": {\n",
    "        \"domain_kwargs\": {\n",
    "          \"column\": \"year\"\n",
    "        },\n",
    "        \"metric_name\": \"column_values.nonnull.unexpected_count\",\n",
    "        \"metric_value_kwargs\": None\n",
    "      },\n",
    "      \"num_batches\": 1\n",
    "    }\n",
    "  },\n",
    "  \"kwargs\": {\n",
    "    \"column\": \"year\"\n",
    "  },\n",
    "  \"expectation_type\": \"expect_column_values_to_not_be_null\"\n",
    "})\n",
    "suite.add_expectation(expectation_configuration=expectation_configuration)"
   ]
  },
  {
   "cell_type": "code",
   "execution_count": 5,
   "id": "04b3d1ab",
   "metadata": {},
   "outputs": [
    {
     "data": {
      "text/plain": [
       "{\"kwargs\": {\"column\": \"year\", \"max_value\": 2023, \"min_value\": 2022, \"mostly\": 1.0, \"strict_max\": false, \"strict_min\": false}, \"meta\": {\"profiler_details\": {\"column_max_values_range_estimator\": {\"metric_configuration\": {\"domain_kwargs\": {\"column\": \"year\"}, \"metric_name\": \"column.max\", \"metric_value_kwargs\": null}, \"num_batches\": 1}, \"column_min_values_range_estimator\": {\"metric_configuration\": {\"domain_kwargs\": {\"column\": \"year\"}, \"metric_name\": \"column.min\", \"metric_value_kwargs\": null}, \"num_batches\": 1}}}, \"expectation_type\": \"expect_column_values_to_be_between\"}"
      ]
     },
     "execution_count": 5,
     "metadata": {},
     "output_type": "execute_result"
    }
   ],
   "source": [
    "\n",
    "expectation_configuration = ExpectationConfiguration(**{\n",
    "  \"meta\": {\n",
    "    \"profiler_details\": {\n",
    "      \"column_max_values_range_estimator\": {\n",
    "        \"metric_configuration\": {\n",
    "          \"domain_kwargs\": {\n",
    "            \"column\": \"year\"\n",
    "          },\n",
    "          \"metric_name\": \"column.max\",\n",
    "          \"metric_value_kwargs\": None\n",
    "        },\n",
    "        \"num_batches\": 1\n",
    "      },\n",
    "      \"column_min_values_range_estimator\": {\n",
    "        \"metric_configuration\": {\n",
    "          \"domain_kwargs\": {\n",
    "            \"column\": \"year\"\n",
    "          },\n",
    "          \"metric_name\": \"column.min\",\n",
    "          \"metric_value_kwargs\": None\n",
    "        },\n",
    "        \"num_batches\": 1\n",
    "      }\n",
    "    }\n",
    "  },\n",
    "  \"kwargs\": {\n",
    "    \"column\": \"year\",\n",
    "    \"max_value\": 2023,\n",
    "    \"min_value\": 2022,\n",
    "    \"mostly\": 1.0,\n",
    "    \"strict_max\": False,\n",
    "    \"strict_min\": False\n",
    "  },\n",
    "  \"expectation_type\": \"expect_column_values_to_be_between\"\n",
    "})\n",
    "suite.add_expectation(expectation_configuration=expectation_configuration)"
   ]
  },
  {
   "cell_type": "markdown",
   "id": "6c3f8a67",
   "metadata": {},
   "source": [
    "#### `station`"
   ]
  },
  {
   "cell_type": "code",
   "execution_count": 6,
   "id": "e6f9d2fa",
   "metadata": {},
   "outputs": [
    {
     "data": {
      "text/plain": [
       "{\"kwargs\": {\"column\": \"station\"}, \"meta\": {\"profiler_details\": {\"metric_configuration\": {\"domain_kwargs\": {\"column\": \"station\"}, \"metric_name\": \"column_values.nonnull.unexpected_count\", \"metric_value_kwargs\": null}, \"num_batches\": 1}}, \"expectation_type\": \"expect_column_values_to_not_be_null\"}"
      ]
     },
     "execution_count": 6,
     "metadata": {},
     "output_type": "execute_result"
    }
   ],
   "source": [
    "\n",
    "expectation_configuration = ExpectationConfiguration(**{\n",
    "  \"meta\": {\n",
    "    \"profiler_details\": {\n",
    "      \"metric_configuration\": {\n",
    "        \"domain_kwargs\": {\n",
    "          \"column\": \"station\"\n",
    "        },\n",
    "        \"metric_name\": \"column_values.nonnull.unexpected_count\",\n",
    "        \"metric_value_kwargs\": None\n",
    "      },\n",
    "      \"num_batches\": 1\n",
    "    }\n",
    "  },\n",
    "  \"kwargs\": {\n",
    "    \"column\": \"station\"\n",
    "  },\n",
    "  \"expectation_type\": \"expect_column_values_to_not_be_null\"\n",
    "})\n",
    "suite.add_expectation(expectation_configuration=expectation_configuration)"
   ]
  },
  {
   "cell_type": "markdown",
   "id": "9d98d7d2",
   "metadata": {},
   "source": [
    "#### `hour`"
   ]
  },
  {
   "cell_type": "code",
   "execution_count": 7,
   "id": "1d56ed3d",
   "metadata": {},
   "outputs": [
    {
     "data": {
      "text/plain": [
       "{\"kwargs\": {\"column\": \"hour\"}, \"meta\": {\"profiler_details\": {\"metric_configuration\": {\"domain_kwargs\": {\"column\": \"hour\"}, \"metric_name\": \"column_values.nonnull.unexpected_count\", \"metric_value_kwargs\": null}, \"num_batches\": 1}}, \"expectation_type\": \"expect_column_values_to_not_be_null\"}"
      ]
     },
     "execution_count": 7,
     "metadata": {},
     "output_type": "execute_result"
    }
   ],
   "source": [
    "\n",
    "expectation_configuration = ExpectationConfiguration(**{\n",
    "  \"meta\": {\n",
    "    \"profiler_details\": {\n",
    "      \"metric_configuration\": {\n",
    "        \"domain_kwargs\": {\n",
    "          \"column\": \"hour\"\n",
    "        },\n",
    "        \"metric_name\": \"column_values.nonnull.unexpected_count\",\n",
    "        \"metric_value_kwargs\": None\n",
    "      },\n",
    "      \"num_batches\": 1\n",
    "    }\n",
    "  },\n",
    "  \"kwargs\": {\n",
    "    \"column\": \"hour\"\n",
    "  },\n",
    "  \"expectation_type\": \"expect_column_values_to_not_be_null\"\n",
    "})\n",
    "suite.add_expectation(expectation_configuration=expectation_configuration)"
   ]
  },
  {
   "cell_type": "code",
   "execution_count": 8,
   "id": "e3f16bbb",
   "metadata": {},
   "outputs": [
    {
     "data": {
      "text/plain": [
       "{\"kwargs\": {\"column\": \"hour\", \"max_value\": 0, \"min_value\": 0, \"strict_max\": false, \"strict_min\": false}, \"meta\": {\"profiler_details\": {\"metric_configuration\": {\"domain_kwargs\": {\"column\": \"hour\"}, \"metric_name\": \"column.min\", \"metric_value_kwargs\": null}, \"num_batches\": 1}}, \"expectation_type\": \"expect_column_min_to_be_between\"}"
      ]
     },
     "execution_count": 8,
     "metadata": {},
     "output_type": "execute_result"
    }
   ],
   "source": [
    "\n",
    "expectation_configuration = ExpectationConfiguration(**{\n",
    "  \"meta\": {\n",
    "    \"profiler_details\": {\n",
    "      \"metric_configuration\": {\n",
    "        \"domain_kwargs\": {\n",
    "          \"column\": \"hour\"\n",
    "        },\n",
    "        \"metric_name\": \"column.min\",\n",
    "        \"metric_value_kwargs\": None\n",
    "      },\n",
    "      \"num_batches\": 1\n",
    "    }\n",
    "  },\n",
    "  \"kwargs\": {\n",
    "    \"column\": \"hour\",\n",
    "    \"max_value\": 0,\n",
    "    \"min_value\": 0,\n",
    "    \"strict_max\": False,\n",
    "    \"strict_min\": False\n",
    "  },\n",
    "  \"expectation_type\": \"expect_column_min_to_be_between\"\n",
    "})\n",
    "suite.add_expectation(expectation_configuration=expectation_configuration)"
   ]
  },
  {
   "cell_type": "code",
   "execution_count": 9,
   "id": "a6f881e9",
   "metadata": {},
   "outputs": [
    {
     "data": {
      "text/plain": [
       "{\"kwargs\": {\"column\": \"hour\", \"max_value\": 23, \"min_value\": 0, \"strict_max\": false, \"strict_min\": false}, \"meta\": {\"profiler_details\": {\"metric_configuration\": {\"domain_kwargs\": {\"column\": \"hour\"}, \"metric_name\": \"column.max\", \"metric_value_kwargs\": null}, \"num_batches\": 1}}, \"expectation_type\": \"expect_column_max_to_be_between\"}"
      ]
     },
     "execution_count": 9,
     "metadata": {},
     "output_type": "execute_result"
    }
   ],
   "source": [
    "\n",
    "expectation_configuration = ExpectationConfiguration(**{\n",
    "  \"meta\": {\n",
    "    \"profiler_details\": {\n",
    "      \"metric_configuration\": {\n",
    "        \"domain_kwargs\": {\n",
    "          \"column\": \"hour\"\n",
    "        },\n",
    "        \"metric_name\": \"column.max\",\n",
    "        \"metric_value_kwargs\": None\n",
    "      },\n",
    "      \"num_batches\": 1\n",
    "    }\n",
    "  },\n",
    "  \"kwargs\": {\n",
    "    \"column\": \"hour\",\n",
    "    \"max_value\": 23,\n",
    "    \"min_value\": 0,\n",
    "    \"strict_max\": False,\n",
    "    \"strict_min\": False\n",
    "  },\n",
    "  \"expectation_type\": \"expect_column_max_to_be_between\"\n",
    "})\n",
    "suite.add_expectation(expectation_configuration=expectation_configuration)"
   ]
  },
  {
   "cell_type": "markdown",
   "id": "921553df",
   "metadata": {},
   "source": [
    "#### `day`"
   ]
  },
  {
   "cell_type": "code",
   "execution_count": 10,
   "id": "0b6eb6d3",
   "metadata": {},
   "outputs": [
    {
     "data": {
      "text/plain": [
       "{\"kwargs\": {\"column\": \"day\"}, \"meta\": {\"profiler_details\": {\"metric_configuration\": {\"domain_kwargs\": {\"column\": \"day\"}, \"metric_name\": \"column_values.nonnull.unexpected_count\", \"metric_value_kwargs\": null}, \"num_batches\": 1}}, \"expectation_type\": \"expect_column_values_to_not_be_null\"}"
      ]
     },
     "execution_count": 10,
     "metadata": {},
     "output_type": "execute_result"
    }
   ],
   "source": [
    "\n",
    "expectation_configuration = ExpectationConfiguration(**{\n",
    "  \"meta\": {\n",
    "    \"profiler_details\": {\n",
    "      \"metric_configuration\": {\n",
    "        \"domain_kwargs\": {\n",
    "          \"column\": \"day\"\n",
    "        },\n",
    "        \"metric_name\": \"column_values.nonnull.unexpected_count\",\n",
    "        \"metric_value_kwargs\": None\n",
    "      },\n",
    "      \"num_batches\": 1\n",
    "    }\n",
    "  },\n",
    "  \"kwargs\": {\n",
    "    \"column\": \"day\"\n",
    "  },\n",
    "  \"expectation_type\": \"expect_column_values_to_not_be_null\"\n",
    "})\n",
    "suite.add_expectation(expectation_configuration=expectation_configuration)"
   ]
  },
  {
   "cell_type": "code",
   "execution_count": 11,
   "id": "d60472ee",
   "metadata": {},
   "outputs": [
    {
     "data": {
      "text/plain": [
       "{\"kwargs\": {\"column\": \"day\", \"max_value\": 365, \"min_value\": 0, \"mostly\": 1.0, \"strict_max\": false, \"strict_min\": false}, \"meta\": {\"profiler_details\": {\"column_max_values_range_estimator\": {\"metric_configuration\": {\"domain_kwargs\": {\"column\": \"day\"}, \"metric_name\": \"column.max\", \"metric_value_kwargs\": null}, \"num_batches\": 1}, \"column_min_values_range_estimator\": {\"metric_configuration\": {\"domain_kwargs\": {\"column\": \"day\"}, \"metric_name\": \"column.min\", \"metric_value_kwargs\": null}, \"num_batches\": 1}}}, \"expectation_type\": \"expect_column_values_to_be_between\"}"
      ]
     },
     "execution_count": 11,
     "metadata": {},
     "output_type": "execute_result"
    }
   ],
   "source": [
    "\n",
    "expectation_configuration = ExpectationConfiguration(**{\n",
    "  \"meta\": {\n",
    "    \"profiler_details\": {\n",
    "      \"column_max_values_range_estimator\": {\n",
    "        \"metric_configuration\": {\n",
    "          \"domain_kwargs\": {\n",
    "            \"column\": \"day\"\n",
    "          },\n",
    "          \"metric_name\": \"column.max\",\n",
    "          \"metric_value_kwargs\": None\n",
    "        },\n",
    "        \"num_batches\": 1\n",
    "      },\n",
    "      \"column_min_values_range_estimator\": {\n",
    "        \"metric_configuration\": {\n",
    "          \"domain_kwargs\": {\n",
    "            \"column\": \"day\"\n",
    "          },\n",
    "          \"metric_name\": \"column.min\",\n",
    "          \"metric_value_kwargs\": None\n",
    "        },\n",
    "        \"num_batches\": 1\n",
    "      }\n",
    "    }\n",
    "  },\n",
    "  \"kwargs\": {\n",
    "    \"column\": \"day\",\n",
    "    \"max_value\": 365,\n",
    "    \"min_value\": 0,\n",
    "    \"mostly\": 1.0,\n",
    "    \"strict_max\": False,\n",
    "    \"strict_min\": False\n",
    "  },\n",
    "  \"expectation_type\": \"expect_column_values_to_be_between\"\n",
    "})\n",
    "suite.add_expectation(expectation_configuration=expectation_configuration)"
   ]
  },
  {
   "cell_type": "markdown",
   "id": "ef07b70f",
   "metadata": {},
   "source": [
    "## Review & Save Your Expectations\n",
    "\n",
    "Let's save the expectation suite as a JSON file in the `great_expectations/expectations` directory of your project.\n",
    "\n",
    "Let's now rebuild your Data Docs, which helps you communicate about your data with both machines and humans."
   ]
  },
  {
   "cell_type": "code",
   "execution_count": 12,
   "id": "8f5436a5",
   "metadata": {},
   "outputs": [
    {
     "name": "stdout",
     "output_type": "stream",
     "text": [
      "{\n",
      "  \"ge_cloud_id\": null,\n",
      "  \"expectation_suite_name\": \"goes_suite_1\",\n",
      "  \"expectations\": [\n",
      "    {\n",
      "      \"kwargs\": {\n",
      "        \"max_value\": 100000,\n",
      "        \"min_value\": 0\n",
      "      },\n",
      "      \"meta\": {\n",
      "        \"profiler_details\": {\n",
      "          \"metric_configuration\": {\n",
      "            \"domain_kwargs\": {},\n",
      "            \"metric_name\": \"table.row_count\",\n",
      "            \"metric_value_kwargs\": null\n",
      "          },\n",
      "          \"num_batches\": 1\n",
      "        }\n",
      "      },\n",
      "      \"expectation_type\": \"expect_table_row_count_to_be_between\"\n",
      "    },\n",
      "    {\n",
      "      \"kwargs\": {\n",
      "        \"column\": \"year\"\n",
      "      },\n",
      "      \"meta\": {\n",
      "        \"profiler_details\": {\n",
      "          \"metric_configuration\": {\n",
      "            \"domain_kwargs\": {\n",
      "              \"column\": \"year\"\n",
      "            },\n",
      "            \"metric_name\": \"column_values.nonnull.unexpected_count\",\n",
      "            \"metric_value_kwargs\": null\n",
      "          },\n",
      "          \"num_batches\": 1\n",
      "        }\n",
      "      },\n",
      "      \"expectation_type\": \"expect_column_values_to_not_be_null\"\n",
      "    },\n",
      "    {\n",
      "      \"kwargs\": {\n",
      "        \"column\": \"station\"\n",
      "      },\n",
      "      \"meta\": {\n",
      "        \"profiler_details\": {\n",
      "          \"metric_configuration\": {\n",
      "            \"domain_kwargs\": {\n",
      "              \"column\": \"station\"\n",
      "            },\n",
      "            \"metric_name\": \"column_values.nonnull.unexpected_count\",\n",
      "            \"metric_value_kwargs\": null\n",
      "          },\n",
      "          \"num_batches\": 1\n",
      "        }\n",
      "      },\n",
      "      \"expectation_type\": \"expect_column_values_to_not_be_null\"\n",
      "    },\n",
      "    {\n",
      "      \"kwargs\": {\n",
      "        \"column\": \"hour\"\n",
      "      },\n",
      "      \"meta\": {\n",
      "        \"profiler_details\": {\n",
      "          \"metric_configuration\": {\n",
      "            \"domain_kwargs\": {\n",
      "              \"column\": \"hour\"\n",
      "            },\n",
      "            \"metric_name\": \"column_values.nonnull.unexpected_count\",\n",
      "            \"metric_value_kwargs\": null\n",
      "          },\n",
      "          \"num_batches\": 1\n",
      "        }\n",
      "      },\n",
      "      \"expectation_type\": \"expect_column_values_to_not_be_null\"\n",
      "    },\n",
      "    {\n",
      "      \"kwargs\": {\n",
      "        \"column\": \"day\"\n",
      "      },\n",
      "      \"meta\": {\n",
      "        \"profiler_details\": {\n",
      "          \"metric_configuration\": {\n",
      "            \"domain_kwargs\": {\n",
      "              \"column\": \"day\"\n",
      "            },\n",
      "            \"metric_name\": \"column_values.nonnull.unexpected_count\",\n",
      "            \"metric_value_kwargs\": null\n",
      "          },\n",
      "          \"num_batches\": 1\n",
      "        }\n",
      "      },\n",
      "      \"expectation_type\": \"expect_column_values_to_not_be_null\"\n",
      "    },\n",
      "    {\n",
      "      \"kwargs\": {\n",
      "        \"column\": \"hour\",\n",
      "        \"max_value\": 0,\n",
      "        \"min_value\": 0,\n",
      "        \"strict_max\": false,\n",
      "        \"strict_min\": false\n",
      "      },\n",
      "      \"meta\": {\n",
      "        \"profiler_details\": {\n",
      "          \"metric_configuration\": {\n",
      "            \"domain_kwargs\": {\n",
      "              \"column\": \"hour\"\n",
      "            },\n",
      "            \"metric_name\": \"column.min\",\n",
      "            \"metric_value_kwargs\": null\n",
      "          },\n",
      "          \"num_batches\": 1\n",
      "        }\n",
      "      },\n",
      "      \"expectation_type\": \"expect_column_min_to_be_between\"\n",
      "    },\n",
      "    {\n",
      "      \"kwargs\": {\n",
      "        \"column\": \"hour\",\n",
      "        \"max_value\": 23,\n",
      "        \"min_value\": 0,\n",
      "        \"strict_max\": false,\n",
      "        \"strict_min\": false\n",
      "      },\n",
      "      \"meta\": {\n",
      "        \"profiler_details\": {\n",
      "          \"metric_configuration\": {\n",
      "            \"domain_kwargs\": {\n",
      "              \"column\": \"hour\"\n",
      "            },\n",
      "            \"metric_name\": \"column.max\",\n",
      "            \"metric_value_kwargs\": null\n",
      "          },\n",
      "          \"num_batches\": 1\n",
      "        }\n",
      "      },\n",
      "      \"expectation_type\": \"expect_column_max_to_be_between\"\n",
      "    },\n",
      "    {\n",
      "      \"kwargs\": {\n",
      "        \"column\": \"year\",\n",
      "        \"max_value\": 2023,\n",
      "        \"min_value\": 2022,\n",
      "        \"mostly\": 1.0,\n",
      "        \"strict_max\": false,\n",
      "        \"strict_min\": false\n",
      "      },\n",
      "      \"meta\": {\n",
      "        \"profiler_details\": {\n",
      "          \"column_max_values_range_estimator\": {\n",
      "            \"metric_configuration\": {\n",
      "              \"domain_kwargs\": {\n",
      "                \"column\": \"year\"\n",
      "              },\n",
      "              \"metric_name\": \"column.max\",\n",
      "              \"metric_value_kwargs\": null\n",
      "            },\n",
      "            \"num_batches\": 1\n",
      "          },\n",
      "          \"column_min_values_range_estimator\": {\n",
      "            \"metric_configuration\": {\n",
      "              \"domain_kwargs\": {\n",
      "                \"column\": \"year\"\n",
      "              },\n",
      "              \"metric_name\": \"column.min\",\n",
      "              \"metric_value_kwargs\": null\n",
      "            },\n",
      "            \"num_batches\": 1\n",
      "          }\n",
      "        }\n",
      "      },\n",
      "      \"expectation_type\": \"expect_column_values_to_be_between\"\n",
      "    },\n",
      "    {\n",
      "      \"kwargs\": {\n",
      "        \"column\": \"day\",\n",
      "        \"max_value\": 365,\n",
      "        \"min_value\": 0,\n",
      "        \"mostly\": 1.0,\n",
      "        \"strict_max\": false,\n",
      "        \"strict_min\": false\n",
      "      },\n",
      "      \"meta\": {\n",
      "        \"profiler_details\": {\n",
      "          \"column_max_values_range_estimator\": {\n",
      "            \"metric_configuration\": {\n",
      "              \"domain_kwargs\": {\n",
      "                \"column\": \"day\"\n",
      "              },\n",
      "              \"metric_name\": \"column.max\",\n",
      "              \"metric_value_kwargs\": null\n",
      "            },\n",
      "            \"num_batches\": 1\n",
      "          },\n",
      "          \"column_min_values_range_estimator\": {\n",
      "            \"metric_configuration\": {\n",
      "              \"domain_kwargs\": {\n",
      "                \"column\": \"day\"\n",
      "              },\n",
      "              \"metric_name\": \"column.min\",\n",
      "              \"metric_value_kwargs\": null\n",
      "            },\n",
      "            \"num_batches\": 1\n",
      "          }\n",
      "        }\n",
      "      },\n",
      "      \"expectation_type\": \"expect_column_values_to_be_between\"\n",
      "    },\n",
      "    {\n",
      "      \"kwargs\": {\n",
      "        \"column_set\": [\n",
      "          \"year\",\n",
      "          \"day\",\n",
      "          \"station\",\n",
      "          \"hour\"\n",
      "        ]\n",
      "      },\n",
      "      \"meta\": {\n",
      "        \"profiler_details\": {\n",
      "          \"success_ratio\": 1.0\n",
      "        }\n",
      "      },\n",
      "      \"expectation_type\": \"expect_table_columns_to_match_set\"\n",
      "    }\n",
      "  ],\n",
      "  \"meta\": {\n",
      "    \"citations\": [\n",
      "      {\n",
      "        \"citation_date\": \"2023-02-23T02:13:49.020855Z\",\n",
      "        \"comment\": \"Created by effective Rule-Based Profiler of OnboardingDataAssistant with the configuration included.\\n\"\n",
      "      }\n",
      "    ],\n",
      "    \"great_expectations_version\": \"0.15.49\"\n",
      "  },\n",
      "  \"data_asset_type\": null\n",
      "}\n"
     ]
    }
   ],
   "source": [
    "print(context.get_expectation_suite(expectation_suite_name=expectation_suite_name))\n",
    "context.add_or_update_expectation_suite(expectation_suite=suite)\n",
    "\n",
    "suite_identifier = ExpectationSuiteIdentifier(expectation_suite_name=expectation_suite_name)\n",
    "context.build_data_docs(resource_identifiers=[suite_identifier])\n",
    "context.open_data_docs(resource_identifier=suite_identifier)"
   ]
  }
 ],
 "metadata": {
  "kernelspec": {
   "display_name": "Python 3 (ipykernel)",
   "language": "python",
   "name": "python3"
  },
  "language_info": {
   "codemirror_mode": {
    "name": "ipython",
    "version": 3
   },
   "file_extension": ".py",
   "mimetype": "text/x-python",
   "name": "python",
   "nbconvert_exporter": "python",
   "pygments_lexer": "ipython3",
   "version": "3.7.6"
  }
 },
 "nbformat": 4,
 "nbformat_minor": 5
}
